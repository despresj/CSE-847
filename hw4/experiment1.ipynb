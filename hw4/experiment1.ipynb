{
 "cells": [
  {
   "cell_type": "code",
   "execution_count": 1,
   "metadata": {},
   "outputs": [],
   "source": [
    "import numpy as np\n",
    "import pandas as pd\n",
    "\n",
    "from logistic_reg import logistic_train"
   ]
  },
  {
   "cell_type": "code",
   "execution_count": 2,
   "metadata": {},
   "outputs": [],
   "source": [
    "data = (\n",
    "    \"https://raw.githubusercontent.com/jiayuzhou/CSE847/master/data/spam_email/data.txt\"\n",
    ")\n",
    "labels = \"https://raw.githubusercontent.com/jiayuzhou/CSE847/master/data/spam_email/labels.txt\"\n",
    "\n",
    "X = pd.read_csv(data, sep=\"  \", header=None, engine=\"python\").to_numpy()\n",
    "y = pd.read_csv(labels, header=None).to_numpy().ravel()"
   ]
  },
  {
   "cell_type": "code",
   "execution_count": 3,
   "metadata": {},
   "outputs": [],
   "source": [
    "X_train, X_test, y_train, y_test = X[0:2000, :], X[2000:, :], y[0:2000], y[2000:]"
   ]
  },
  {
   "cell_type": "code",
   "execution_count": 5,
   "metadata": {},
   "outputs": [
    {
     "name": "stdout",
     "output_type": "stream",
     "text": [
      "sample of n = 200 predicted an accuracy of 82.97%\n",
      "sample of n = 500 predicted an accuracy of 90.0%\n",
      "sample of n = 1000 predicted an accuracy of 90.73%\n",
      "sample of n = 1500 predicted an accuracy of 90.81%\n",
      "sample of n = 2000 predicted an accuracy of 91.16%\n"
     ]
    }
   ],
   "source": [
    "for n in [200, 500, 1000, 1500, 2000]:\n",
    "    X_temp = X_train[0:n, :]\n",
    "    y_temp = y_train[0:n]\n",
    "    w = logistic_train(X_temp, y_temp)\n",
    "    phat = 1 / (1 + np.exp(-X_test @ w))\n",
    "    yhat = np.where(phat > 0.5, 1, 0)\n",
    "    acc = np.sum(yhat == y_test) / y_test.shape[0]\n",
    "    print(f\"sample of n = {n} predicted an accuracy of {round(acc*100, 2)}%\")"
   ]
  }
 ],
 "metadata": {
  "interpreter": {
   "hash": "da87aeadf87cf490297224c7c23f7d1e1063536e82f4ace3f47dca861e15fad8"
  },
  "kernelspec": {
   "display_name": "Python 3.9.10 ('my_env')",
   "language": "python",
   "name": "python3"
  },
  "language_info": {
   "codemirror_mode": {
    "name": "ipython",
    "version": 3
   },
   "file_extension": ".py",
   "mimetype": "text/x-python",
   "name": "python",
   "nbconvert_exporter": "python",
   "pygments_lexer": "ipython3",
   "version": "3.9.10"
  },
  "orig_nbformat": 4
 },
 "nbformat": 4,
 "nbformat_minor": 2
}
